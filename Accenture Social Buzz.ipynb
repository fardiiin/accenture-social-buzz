{
 "cells": [
  {
   "cell_type": "markdown",
   "id": "2a2d443d",
   "metadata": {},
   "source": [
    "# 1. Introduction"
   ]
  },
  {
   "cell_type": "markdown",
   "id": "626d9b16",
   "metadata": {},
   "source": [
    "First of all, I got the **Social Buzz** client brief regarding their business needs. They had 3 main expectations from this project with **Accenture**. One of those falls within the responsibility of a Data Analytics team, where I am playing the role of the data analyst. Following, I had a meeting introducing me to the internal stakeholders.\n",
    "Lastly, I got a data model from the client: <br>\n",
    "<img src=\"data_model.jpg\" alt=\"data model\" width=\"400\" align=\"left\"/>\n",
    "<br>\n",
    "<br>\n",
    "<br>\n",
    "From all these, I need only 3 data tables: \"Reaction, Content, and ReactionTypes\" to find the **top 5 content categories with the largest aggregate popularity** for the client."
   ]
  },
  {
   "cell_type": "markdown",
   "id": "f7e5e70f",
   "metadata": {},
   "source": [
    "# 2. Data Cleaning"
   ]
  },
  {
   "cell_type": "markdown",
   "id": "04cdba7d",
   "metadata": {},
   "source": [
    "I have downloaded the given data tables in csv format."
   ]
  },
  {
   "cell_type": "code",
   "execution_count": 1,
   "id": "1f8a75f8",
   "metadata": {},
   "outputs": [],
   "source": [
    "import pandas as pd\n",
    "import matplotlib as mpl\n",
    "import matplotlib.pyplot as plt\n",
    "import seaborn as sns"
   ]
  },
  {
   "cell_type": "code",
   "execution_count": 2,
   "id": "9d4b863d",
   "metadata": {},
   "outputs": [],
   "source": [
    "cnt = pd.read_csv('Content.csv')\n",
    "rct = pd.read_csv('Reactions.csv')\n",
    "rtp = pd.read_csv('ReactionTypes.csv')"
   ]
  },
  {
   "cell_type": "code",
   "execution_count": 3,
   "id": "0eaf1989",
   "metadata": {},
   "outputs": [
    {
     "name": "stdout",
     "output_type": "stream",
     "text": [
      "(1000, 6)\n"
     ]
    },
    {
     "data": {
      "text/html": [
       "<div>\n",
       "<style scoped>\n",
       "    .dataframe tbody tr th:only-of-type {\n",
       "        vertical-align: middle;\n",
       "    }\n",
       "\n",
       "    .dataframe tbody tr th {\n",
       "        vertical-align: top;\n",
       "    }\n",
       "\n",
       "    .dataframe thead th {\n",
       "        text-align: right;\n",
       "    }\n",
       "</style>\n",
       "<table border=\"1\" class=\"dataframe\">\n",
       "  <thead>\n",
       "    <tr style=\"text-align: right;\">\n",
       "      <th></th>\n",
       "      <th>Unnamed: 0</th>\n",
       "      <th>Content ID</th>\n",
       "      <th>User ID</th>\n",
       "      <th>Type</th>\n",
       "      <th>Category</th>\n",
       "      <th>URL</th>\n",
       "    </tr>\n",
       "  </thead>\n",
       "  <tbody>\n",
       "    <tr>\n",
       "      <th>0</th>\n",
       "      <td>0</td>\n",
       "      <td>97522e57-d9ab-4bd6-97bf-c24d952602d2</td>\n",
       "      <td>8d3cd87d-8a31-4935-9a4f-b319bfe05f31</td>\n",
       "      <td>photo</td>\n",
       "      <td>Studying</td>\n",
       "      <td>https://socialbuzz.cdn.com/content/storage/975...</td>\n",
       "    </tr>\n",
       "    <tr>\n",
       "      <th>1</th>\n",
       "      <td>1</td>\n",
       "      <td>9f737e0a-3cdd-4d29-9d24-753f4e3be810</td>\n",
       "      <td>beb1f34e-7870-46d6-9fc7-2e12eb83ce43</td>\n",
       "      <td>photo</td>\n",
       "      <td>healthy eating</td>\n",
       "      <td>https://socialbuzz.cdn.com/content/storage/9f7...</td>\n",
       "    </tr>\n",
       "    <tr>\n",
       "      <th>2</th>\n",
       "      <td>2</td>\n",
       "      <td>230c4e4d-70c3-461d-b42c-ec09396efb3f</td>\n",
       "      <td>a5c65404-5894-4b87-82f2-d787cbee86b4</td>\n",
       "      <td>photo</td>\n",
       "      <td>healthy eating</td>\n",
       "      <td>https://socialbuzz.cdn.com/content/storage/230...</td>\n",
       "    </tr>\n",
       "  </tbody>\n",
       "</table>\n",
       "</div>"
      ],
      "text/plain": [
       "   Unnamed: 0                            Content ID  \\\n",
       "0           0  97522e57-d9ab-4bd6-97bf-c24d952602d2   \n",
       "1           1  9f737e0a-3cdd-4d29-9d24-753f4e3be810   \n",
       "2           2  230c4e4d-70c3-461d-b42c-ec09396efb3f   \n",
       "\n",
       "                                User ID   Type        Category  \\\n",
       "0  8d3cd87d-8a31-4935-9a4f-b319bfe05f31  photo        Studying   \n",
       "1  beb1f34e-7870-46d6-9fc7-2e12eb83ce43  photo  healthy eating   \n",
       "2  a5c65404-5894-4b87-82f2-d787cbee86b4  photo  healthy eating   \n",
       "\n",
       "                                                 URL  \n",
       "0  https://socialbuzz.cdn.com/content/storage/975...  \n",
       "1  https://socialbuzz.cdn.com/content/storage/9f7...  \n",
       "2  https://socialbuzz.cdn.com/content/storage/230...  "
      ]
     },
     "execution_count": 3,
     "metadata": {},
     "output_type": "execute_result"
    }
   ],
   "source": [
    "print(cnt.shape)\n",
    "cnt.head(3)"
   ]
  },
  {
   "cell_type": "code",
   "execution_count": 4,
   "id": "0396eec0",
   "metadata": {},
   "outputs": [
    {
     "name": "stdout",
     "output_type": "stream",
     "text": [
      "(25553, 5)\n"
     ]
    },
    {
     "data": {
      "text/html": [
       "<div>\n",
       "<style scoped>\n",
       "    .dataframe tbody tr th:only-of-type {\n",
       "        vertical-align: middle;\n",
       "    }\n",
       "\n",
       "    .dataframe tbody tr th {\n",
       "        vertical-align: top;\n",
       "    }\n",
       "\n",
       "    .dataframe thead th {\n",
       "        text-align: right;\n",
       "    }\n",
       "</style>\n",
       "<table border=\"1\" class=\"dataframe\">\n",
       "  <thead>\n",
       "    <tr style=\"text-align: right;\">\n",
       "      <th></th>\n",
       "      <th>Unnamed: 0</th>\n",
       "      <th>Content ID</th>\n",
       "      <th>User ID</th>\n",
       "      <th>Type</th>\n",
       "      <th>Datetime</th>\n",
       "    </tr>\n",
       "  </thead>\n",
       "  <tbody>\n",
       "    <tr>\n",
       "      <th>0</th>\n",
       "      <td>0</td>\n",
       "      <td>97522e57-d9ab-4bd6-97bf-c24d952602d2</td>\n",
       "      <td>NaN</td>\n",
       "      <td>NaN</td>\n",
       "      <td>2021-04-22 15:17:15</td>\n",
       "    </tr>\n",
       "    <tr>\n",
       "      <th>1</th>\n",
       "      <td>1</td>\n",
       "      <td>97522e57-d9ab-4bd6-97bf-c24d952602d2</td>\n",
       "      <td>5d454588-283d-459d-915d-c48a2cb4c27f</td>\n",
       "      <td>disgust</td>\n",
       "      <td>2020-11-07 09:43:50</td>\n",
       "    </tr>\n",
       "    <tr>\n",
       "      <th>2</th>\n",
       "      <td>2</td>\n",
       "      <td>97522e57-d9ab-4bd6-97bf-c24d952602d2</td>\n",
       "      <td>92b87fa5-f271-43e0-af66-84fac21052e6</td>\n",
       "      <td>dislike</td>\n",
       "      <td>2021-06-17 12:22:51</td>\n",
       "    </tr>\n",
       "  </tbody>\n",
       "</table>\n",
       "</div>"
      ],
      "text/plain": [
       "   Unnamed: 0                            Content ID  \\\n",
       "0           0  97522e57-d9ab-4bd6-97bf-c24d952602d2   \n",
       "1           1  97522e57-d9ab-4bd6-97bf-c24d952602d2   \n",
       "2           2  97522e57-d9ab-4bd6-97bf-c24d952602d2   \n",
       "\n",
       "                                User ID     Type             Datetime  \n",
       "0                                   NaN      NaN  2021-04-22 15:17:15  \n",
       "1  5d454588-283d-459d-915d-c48a2cb4c27f  disgust  2020-11-07 09:43:50  \n",
       "2  92b87fa5-f271-43e0-af66-84fac21052e6  dislike  2021-06-17 12:22:51  "
      ]
     },
     "execution_count": 4,
     "metadata": {},
     "output_type": "execute_result"
    }
   ],
   "source": [
    "print(rct.shape)\n",
    "rct.head(3)"
   ]
  },
  {
   "cell_type": "code",
   "execution_count": 5,
   "id": "e2abac73",
   "metadata": {
    "scrolled": true
   },
   "outputs": [
    {
     "name": "stdout",
     "output_type": "stream",
     "text": [
      "(16, 4)\n"
     ]
    },
    {
     "data": {
      "text/html": [
       "<div>\n",
       "<style scoped>\n",
       "    .dataframe tbody tr th:only-of-type {\n",
       "        vertical-align: middle;\n",
       "    }\n",
       "\n",
       "    .dataframe tbody tr th {\n",
       "        vertical-align: top;\n",
       "    }\n",
       "\n",
       "    .dataframe thead th {\n",
       "        text-align: right;\n",
       "    }\n",
       "</style>\n",
       "<table border=\"1\" class=\"dataframe\">\n",
       "  <thead>\n",
       "    <tr style=\"text-align: right;\">\n",
       "      <th></th>\n",
       "      <th>Unnamed: 0</th>\n",
       "      <th>Type</th>\n",
       "      <th>Sentiment</th>\n",
       "      <th>Score</th>\n",
       "    </tr>\n",
       "  </thead>\n",
       "  <tbody>\n",
       "    <tr>\n",
       "      <th>0</th>\n",
       "      <td>0</td>\n",
       "      <td>heart</td>\n",
       "      <td>positive</td>\n",
       "      <td>60</td>\n",
       "    </tr>\n",
       "    <tr>\n",
       "      <th>1</th>\n",
       "      <td>1</td>\n",
       "      <td>want</td>\n",
       "      <td>positive</td>\n",
       "      <td>70</td>\n",
       "    </tr>\n",
       "    <tr>\n",
       "      <th>2</th>\n",
       "      <td>2</td>\n",
       "      <td>disgust</td>\n",
       "      <td>negative</td>\n",
       "      <td>0</td>\n",
       "    </tr>\n",
       "  </tbody>\n",
       "</table>\n",
       "</div>"
      ],
      "text/plain": [
       "   Unnamed: 0     Type Sentiment  Score\n",
       "0           0    heart  positive     60\n",
       "1           1     want  positive     70\n",
       "2           2  disgust  negative      0"
      ]
     },
     "execution_count": 5,
     "metadata": {},
     "output_type": "execute_result"
    }
   ],
   "source": [
    "print(rtp.shape)\n",
    "rtp.head(3)"
   ]
  },
  {
   "cell_type": "markdown",
   "id": "99bf0430",
   "metadata": {},
   "source": [
    "### Retireve the necessary columns only"
   ]
  },
  {
   "cell_type": "code",
   "execution_count": 6,
   "id": "c7ab33c3",
   "metadata": {},
   "outputs": [],
   "source": [
    "cnt = cnt[['Content ID','User ID','Type','Category']]\n",
    "rct = rct[['Content ID','User ID','Type','Datetime']]\n",
    "rtp=rtp[['Type','Sentiment','Score']]"
   ]
  },
  {
   "cell_type": "markdown",
   "id": "f407cf61",
   "metadata": {},
   "source": [
    "### Handle null values first"
   ]
  },
  {
   "cell_type": "code",
   "execution_count": 7,
   "id": "61985c36",
   "metadata": {
    "scrolled": true
   },
   "outputs": [
    {
     "name": "stdout",
     "output_type": "stream",
     "text": [
      "In the 'Content' table:\n",
      "\n",
      " Content ID    0\n",
      "User ID       0\n",
      "Type          0\n",
      "Category      0\n",
      "dtype: int64 \n",
      "\n",
      "In the 'Reaction' table:\n",
      "\n",
      " Content ID       0\n",
      "User ID       3019\n",
      "Type           980\n",
      "Datetime         0\n",
      "dtype: int64 \n",
      "\n",
      "In the 'ReactionTypes' table:\n",
      "\n",
      " Type         0\n",
      "Sentiment    0\n",
      "Score        0\n",
      "dtype: int64 \n",
      "\n"
     ]
    }
   ],
   "source": [
    "print(\"In the 'Content' table:\\n\\n\", cnt.isnull().sum(), \"\\n\")\n",
    "print(\"In the 'Reaction' table:\\n\\n\", rct.isnull().sum(), \"\\n\")\n",
    "print(\"In the 'ReactionTypes' table:\\n\\n\", rtp.isnull().sum(), \"\\n\")"
   ]
  },
  {
   "cell_type": "markdown",
   "id": "17c889e6",
   "metadata": {},
   "source": [
    "**Drop entries that has null values**"
   ]
  },
  {
   "cell_type": "code",
   "execution_count": 8,
   "id": "fdf6513c",
   "metadata": {},
   "outputs": [],
   "source": [
    "rct.dropna(axis = 0, inplace = True)"
   ]
  },
  {
   "cell_type": "code",
   "execution_count": 9,
   "id": "970978d1",
   "metadata": {},
   "outputs": [
    {
     "data": {
      "text/plain": [
       "(22534, 4)"
      ]
     },
     "execution_count": 9,
     "metadata": {},
     "output_type": "execute_result"
    }
   ],
   "source": [
    "rct.shape"
   ]
  },
  {
   "cell_type": "markdown",
   "id": "500d74fb",
   "metadata": {},
   "source": [
    "### Checking the data types for the tables and making changes if necessary"
   ]
  },
  {
   "cell_type": "code",
   "execution_count": 10,
   "id": "2c9ab739",
   "metadata": {},
   "outputs": [
    {
     "name": "stdout",
     "output_type": "stream",
     "text": [
      "<class 'pandas.core.frame.DataFrame'>\n",
      "RangeIndex: 1000 entries, 0 to 999\n",
      "Data columns (total 4 columns):\n",
      " #   Column      Non-Null Count  Dtype \n",
      "---  ------      --------------  ----- \n",
      " 0   Content ID  1000 non-null   object\n",
      " 1   User ID     1000 non-null   object\n",
      " 2   Type        1000 non-null   object\n",
      " 3   Category    1000 non-null   object\n",
      "dtypes: object(4)\n",
      "memory usage: 31.4+ KB\n",
      "None\n",
      "<class 'pandas.core.frame.DataFrame'>\n",
      "Int64Index: 22534 entries, 1 to 25552\n",
      "Data columns (total 4 columns):\n",
      " #   Column      Non-Null Count  Dtype \n",
      "---  ------      --------------  ----- \n",
      " 0   Content ID  22534 non-null  object\n",
      " 1   User ID     22534 non-null  object\n",
      " 2   Type        22534 non-null  object\n",
      " 3   Datetime    22534 non-null  object\n",
      "dtypes: object(4)\n",
      "memory usage: 880.2+ KB\n",
      "None\n",
      "<class 'pandas.core.frame.DataFrame'>\n",
      "RangeIndex: 16 entries, 0 to 15\n",
      "Data columns (total 3 columns):\n",
      " #   Column     Non-Null Count  Dtype \n",
      "---  ------     --------------  ----- \n",
      " 0   Type       16 non-null     object\n",
      " 1   Sentiment  16 non-null     object\n",
      " 2   Score      16 non-null     int64 \n",
      "dtypes: int64(1), object(2)\n",
      "memory usage: 512.0+ bytes\n",
      "None\n"
     ]
    }
   ],
   "source": [
    "print(cnt.info())\n",
    "print(rct.info())\n",
    "print(rtp.info())"
   ]
  },
  {
   "cell_type": "code",
   "execution_count": 11,
   "id": "2cefb5da",
   "metadata": {},
   "outputs": [],
   "source": [
    "rct['Datetime'] = pd.to_datetime(rct['Datetime'], format='%Y-%m-%d %H:%M:%S')"
   ]
  },
  {
   "cell_type": "code",
   "execution_count": 12,
   "id": "94651642",
   "metadata": {},
   "outputs": [],
   "source": [
    "cnt[['Type']] = cnt[['Type']].astype('category')\n",
    "cnt[['Category']] = cnt[['Category']].astype('category')\n",
    "rct[['Type']] = rct[['Type']].astype('category')\n",
    "rtp[['Type']] = rtp[['Type']].astype('category')\n",
    "rtp[['Sentiment']] = rtp[['Sentiment']].astype('category')"
   ]
  },
  {
   "cell_type": "markdown",
   "id": "7bfe1252",
   "metadata": {},
   "source": [
    "### Elements in the important category type columns"
   ]
  },
  {
   "cell_type": "code",
   "execution_count": 13,
   "id": "9ac6ae0e",
   "metadata": {},
   "outputs": [
    {
     "name": "stdout",
     "output_type": "stream",
     "text": [
      ">>> In the Type column of Content table:\n",
      "GIF\n",
      "audio\n",
      "photo\n",
      "video\n",
      ">>> In the Category column of Content table:\n",
      "\"animals\"\n",
      "\"cooking\"\n",
      "\"culture\"\n",
      "\"dogs\"\n",
      "\"food\"\n",
      "\"public speaking\"\n",
      "\"science\"\n",
      "\"soccer\"\n",
      "\"studying\"\n",
      "\"technology\"\n",
      "\"tennis\"\n",
      "\"veganism\"\n",
      "Animals\n",
      "Culture\n",
      "Education\n",
      "Fitness\n",
      "Food\n",
      "Healthy Eating\n",
      "Public Speaking\n",
      "Science\n",
      "Soccer\n",
      "Studying\n",
      "Technology\n",
      "Travel\n",
      "Veganism\n",
      "animals\n",
      "cooking\n",
      "culture\n",
      "dogs\n",
      "education\n",
      "fitness\n",
      "food\n",
      "healthy eating\n",
      "public speaking\n",
      "science\n",
      "soccer\n",
      "studying\n",
      "technology\n",
      "tennis\n",
      "travel\n",
      "veganism\n",
      "\n",
      "\n",
      ">>> In the Type column of Reaction table:\n",
      "adore\n",
      "cherish\n",
      "disgust\n",
      "dislike\n",
      "hate\n",
      "heart\n",
      "indifferent\n",
      "interested\n",
      "intrigued\n",
      "like\n",
      "love\n",
      "peeking\n",
      "scared\n",
      "super love\n",
      "want\n",
      "worried\n",
      "\n",
      "\n",
      ">>> In the Type column of ReactionTypes table:\n",
      "adore\n",
      "cherish\n",
      "disgust\n",
      "dislike\n",
      "hate\n",
      "heart\n",
      "indifferent\n",
      "interested\n",
      "intrigued\n",
      "like\n",
      "love\n",
      "peeking\n",
      "scared\n",
      "super love\n",
      "want\n",
      "worried\n",
      ">>> In the Sentiment column of ReactionTypes table:\n",
      "negative\n",
      "neutral\n",
      "positive\n",
      "\n",
      "\n"
     ]
    }
   ],
   "source": [
    "def show_unique_elements(table, name):\n",
    "    for column in table.columns.tolist():\n",
    "        if column in ['Type', 'Category', 'Sentiment']:\n",
    "            unique_elements = sorted(table[column].unique())\n",
    "            print(f\">>> In the {column} column of {name} table:\")\n",
    "            for x in unique_elements:\n",
    "                print(x)\n",
    "    print(\"\\n\")\n",
    "\n",
    "show_unique_elements(cnt, \"Content\")\n",
    "show_unique_elements(rct, \"Reaction\")\n",
    "show_unique_elements(rtp, \"ReactionTypes\")\n"
   ]
  },
  {
   "cell_type": "markdown",
   "id": "0237ccb2",
   "metadata": {},
   "source": [
    "**In the Category column of Content table, some names are repeated with quoted commas and different letter cases. Let's fix this!**"
   ]
  },
  {
   "cell_type": "code",
   "execution_count": 14,
   "id": "90a8549a",
   "metadata": {},
   "outputs": [],
   "source": [
    "cnt['Category'] = cnt['Category'].str.replace('\"', '').str.lower()"
   ]
  },
  {
   "cell_type": "code",
   "execution_count": 15,
   "id": "ccf2ca24",
   "metadata": {
    "scrolled": true
   },
   "outputs": [
    {
     "name": "stdout",
     "output_type": "stream",
     "text": [
      "animals\n",
      "cooking\n",
      "culture\n",
      "dogs\n",
      "education\n",
      "fitness\n",
      "food\n",
      "healthy eating\n",
      "public speaking\n",
      "science\n",
      "soccer\n",
      "studying\n",
      "technology\n",
      "tennis\n",
      "travel\n",
      "veganism\n"
     ]
    }
   ],
   "source": [
    "unique_elements = sorted(cnt['Category'].unique())\n",
    "for x in unique_elements:\n",
    "    print(x)"
   ]
  },
  {
   "cell_type": "markdown",
   "id": "a045525d",
   "metadata": {},
   "source": [
    "### Remove duplicate entries"
   ]
  },
  {
   "cell_type": "code",
   "execution_count": 16,
   "id": "7e3a611a",
   "metadata": {},
   "outputs": [],
   "source": [
    "cnt = cnt.drop_duplicates()\n",
    "rct = rct.drop_duplicates()\n",
    "rtp = rtp.drop_duplicates()"
   ]
  },
  {
   "cell_type": "markdown",
   "id": "fe60977c",
   "metadata": {},
   "source": [
    "# 3. Data Modeling"
   ]
  },
  {
   "cell_type": "markdown",
   "id": "d3704d3d",
   "metadata": {},
   "source": [
    "Taking Reaction table `rct` as the base table."
   ]
  },
  {
   "cell_type": "markdown",
   "id": "18621971",
   "metadata": {},
   "source": [
    "First, let's join the `rct` table with `rtp` (ReactionTypes) table on reaction `Type` to create new dataframe `mydata`"
   ]
  },
  {
   "cell_type": "code",
   "execution_count": 17,
   "id": "50a4e81e",
   "metadata": {},
   "outputs": [
    {
     "data": {
      "text/html": [
       "<div>\n",
       "<style scoped>\n",
       "    .dataframe tbody tr th:only-of-type {\n",
       "        vertical-align: middle;\n",
       "    }\n",
       "\n",
       "    .dataframe tbody tr th {\n",
       "        vertical-align: top;\n",
       "    }\n",
       "\n",
       "    .dataframe thead th {\n",
       "        text-align: right;\n",
       "    }\n",
       "</style>\n",
       "<table border=\"1\" class=\"dataframe\">\n",
       "  <thead>\n",
       "    <tr style=\"text-align: right;\">\n",
       "      <th></th>\n",
       "      <th>Content ID</th>\n",
       "      <th>User ID</th>\n",
       "      <th>Type</th>\n",
       "      <th>Datetime</th>\n",
       "      <th>Sentiment</th>\n",
       "      <th>Score</th>\n",
       "    </tr>\n",
       "  </thead>\n",
       "  <tbody>\n",
       "    <tr>\n",
       "      <th>0</th>\n",
       "      <td>97522e57-d9ab-4bd6-97bf-c24d952602d2</td>\n",
       "      <td>5d454588-283d-459d-915d-c48a2cb4c27f</td>\n",
       "      <td>disgust</td>\n",
       "      <td>2020-11-07 09:43:50</td>\n",
       "      <td>negative</td>\n",
       "      <td>0</td>\n",
       "    </tr>\n",
       "    <tr>\n",
       "      <th>1</th>\n",
       "      <td>97522e57-d9ab-4bd6-97bf-c24d952602d2</td>\n",
       "      <td>92b87fa5-f271-43e0-af66-84fac21052e6</td>\n",
       "      <td>dislike</td>\n",
       "      <td>2021-06-17 12:22:51</td>\n",
       "      <td>negative</td>\n",
       "      <td>10</td>\n",
       "    </tr>\n",
       "    <tr>\n",
       "      <th>2</th>\n",
       "      <td>97522e57-d9ab-4bd6-97bf-c24d952602d2</td>\n",
       "      <td>163daa38-8b77-48c9-9af6-37a6c1447ac2</td>\n",
       "      <td>scared</td>\n",
       "      <td>2021-04-18 05:13:58</td>\n",
       "      <td>negative</td>\n",
       "      <td>15</td>\n",
       "    </tr>\n",
       "  </tbody>\n",
       "</table>\n",
       "</div>"
      ],
      "text/plain": [
       "                             Content ID                               User ID  \\\n",
       "0  97522e57-d9ab-4bd6-97bf-c24d952602d2  5d454588-283d-459d-915d-c48a2cb4c27f   \n",
       "1  97522e57-d9ab-4bd6-97bf-c24d952602d2  92b87fa5-f271-43e0-af66-84fac21052e6   \n",
       "2  97522e57-d9ab-4bd6-97bf-c24d952602d2  163daa38-8b77-48c9-9af6-37a6c1447ac2   \n",
       "\n",
       "      Type            Datetime Sentiment  Score  \n",
       "0  disgust 2020-11-07 09:43:50  negative      0  \n",
       "1  dislike 2021-06-17 12:22:51  negative     10  \n",
       "2   scared 2021-04-18 05:13:58  negative     15  "
      ]
     },
     "execution_count": 17,
     "metadata": {},
     "output_type": "execute_result"
    }
   ],
   "source": [
    "mydata = pd.merge(rct, rtp, on='Type', how='left')\n",
    "mydata.head(3)"
   ]
  },
  {
   "cell_type": "markdown",
   "id": "f2a63558",
   "metadata": {},
   "source": [
    "Now, left join this `mydata` with `cnt` (Content) table on `Content ID` and update `mydata`"
   ]
  },
  {
   "cell_type": "code",
   "execution_count": 18,
   "id": "180269fe",
   "metadata": {},
   "outputs": [
    {
     "data": {
      "text/html": [
       "<div>\n",
       "<style scoped>\n",
       "    .dataframe tbody tr th:only-of-type {\n",
       "        vertical-align: middle;\n",
       "    }\n",
       "\n",
       "    .dataframe tbody tr th {\n",
       "        vertical-align: top;\n",
       "    }\n",
       "\n",
       "    .dataframe thead th {\n",
       "        text-align: right;\n",
       "    }\n",
       "</style>\n",
       "<table border=\"1\" class=\"dataframe\">\n",
       "  <thead>\n",
       "    <tr style=\"text-align: right;\">\n",
       "      <th></th>\n",
       "      <th>Content ID</th>\n",
       "      <th>User ID_x</th>\n",
       "      <th>Type_x</th>\n",
       "      <th>Datetime</th>\n",
       "      <th>Sentiment</th>\n",
       "      <th>Score</th>\n",
       "      <th>User ID_y</th>\n",
       "      <th>Type_y</th>\n",
       "      <th>Category</th>\n",
       "    </tr>\n",
       "  </thead>\n",
       "  <tbody>\n",
       "    <tr>\n",
       "      <th>0</th>\n",
       "      <td>97522e57-d9ab-4bd6-97bf-c24d952602d2</td>\n",
       "      <td>5d454588-283d-459d-915d-c48a2cb4c27f</td>\n",
       "      <td>disgust</td>\n",
       "      <td>2020-11-07 09:43:50</td>\n",
       "      <td>negative</td>\n",
       "      <td>0</td>\n",
       "      <td>8d3cd87d-8a31-4935-9a4f-b319bfe05f31</td>\n",
       "      <td>photo</td>\n",
       "      <td>studying</td>\n",
       "    </tr>\n",
       "    <tr>\n",
       "      <th>1</th>\n",
       "      <td>97522e57-d9ab-4bd6-97bf-c24d952602d2</td>\n",
       "      <td>92b87fa5-f271-43e0-af66-84fac21052e6</td>\n",
       "      <td>dislike</td>\n",
       "      <td>2021-06-17 12:22:51</td>\n",
       "      <td>negative</td>\n",
       "      <td>10</td>\n",
       "      <td>8d3cd87d-8a31-4935-9a4f-b319bfe05f31</td>\n",
       "      <td>photo</td>\n",
       "      <td>studying</td>\n",
       "    </tr>\n",
       "    <tr>\n",
       "      <th>2</th>\n",
       "      <td>97522e57-d9ab-4bd6-97bf-c24d952602d2</td>\n",
       "      <td>163daa38-8b77-48c9-9af6-37a6c1447ac2</td>\n",
       "      <td>scared</td>\n",
       "      <td>2021-04-18 05:13:58</td>\n",
       "      <td>negative</td>\n",
       "      <td>15</td>\n",
       "      <td>8d3cd87d-8a31-4935-9a4f-b319bfe05f31</td>\n",
       "      <td>photo</td>\n",
       "      <td>studying</td>\n",
       "    </tr>\n",
       "  </tbody>\n",
       "</table>\n",
       "</div>"
      ],
      "text/plain": [
       "                             Content ID                             User ID_x  \\\n",
       "0  97522e57-d9ab-4bd6-97bf-c24d952602d2  5d454588-283d-459d-915d-c48a2cb4c27f   \n",
       "1  97522e57-d9ab-4bd6-97bf-c24d952602d2  92b87fa5-f271-43e0-af66-84fac21052e6   \n",
       "2  97522e57-d9ab-4bd6-97bf-c24d952602d2  163daa38-8b77-48c9-9af6-37a6c1447ac2   \n",
       "\n",
       "    Type_x            Datetime Sentiment  Score  \\\n",
       "0  disgust 2020-11-07 09:43:50  negative      0   \n",
       "1  dislike 2021-06-17 12:22:51  negative     10   \n",
       "2   scared 2021-04-18 05:13:58  negative     15   \n",
       "\n",
       "                              User ID_y Type_y  Category  \n",
       "0  8d3cd87d-8a31-4935-9a4f-b319bfe05f31  photo  studying  \n",
       "1  8d3cd87d-8a31-4935-9a4f-b319bfe05f31  photo  studying  \n",
       "2  8d3cd87d-8a31-4935-9a4f-b319bfe05f31  photo  studying  "
      ]
     },
     "execution_count": 18,
     "metadata": {},
     "output_type": "execute_result"
    }
   ],
   "source": [
    "mydata = pd.merge(mydata, cnt, on='Content ID', how='left')\n",
    "mydata.head(3)"
   ]
  },
  {
   "cell_type": "markdown",
   "id": "b20606c3",
   "metadata": {},
   "source": [
    "It's necessary to rename some columns!"
   ]
  },
  {
   "cell_type": "code",
   "execution_count": 19,
   "id": "dffaf6f7",
   "metadata": {},
   "outputs": [
    {
     "data": {
      "text/html": [
       "<div>\n",
       "<style scoped>\n",
       "    .dataframe tbody tr th:only-of-type {\n",
       "        vertical-align: middle;\n",
       "    }\n",
       "\n",
       "    .dataframe tbody tr th {\n",
       "        vertical-align: top;\n",
       "    }\n",
       "\n",
       "    .dataframe thead th {\n",
       "        text-align: right;\n",
       "    }\n",
       "</style>\n",
       "<table border=\"1\" class=\"dataframe\">\n",
       "  <thead>\n",
       "    <tr style=\"text-align: right;\">\n",
       "      <th></th>\n",
       "      <th>Content ID</th>\n",
       "      <th>Reaction User ID</th>\n",
       "      <th>Reaction Type</th>\n",
       "      <th>Reaction DateTime</th>\n",
       "      <th>Sentiment</th>\n",
       "      <th>Score</th>\n",
       "      <th>Content User ID</th>\n",
       "      <th>Content Type</th>\n",
       "      <th>Content Category</th>\n",
       "    </tr>\n",
       "  </thead>\n",
       "  <tbody>\n",
       "    <tr>\n",
       "      <th>0</th>\n",
       "      <td>97522e57-d9ab-4bd6-97bf-c24d952602d2</td>\n",
       "      <td>5d454588-283d-459d-915d-c48a2cb4c27f</td>\n",
       "      <td>disgust</td>\n",
       "      <td>2020-11-07 09:43:50</td>\n",
       "      <td>negative</td>\n",
       "      <td>0</td>\n",
       "      <td>8d3cd87d-8a31-4935-9a4f-b319bfe05f31</td>\n",
       "      <td>photo</td>\n",
       "      <td>studying</td>\n",
       "    </tr>\n",
       "    <tr>\n",
       "      <th>1</th>\n",
       "      <td>97522e57-d9ab-4bd6-97bf-c24d952602d2</td>\n",
       "      <td>92b87fa5-f271-43e0-af66-84fac21052e6</td>\n",
       "      <td>dislike</td>\n",
       "      <td>2021-06-17 12:22:51</td>\n",
       "      <td>negative</td>\n",
       "      <td>10</td>\n",
       "      <td>8d3cd87d-8a31-4935-9a4f-b319bfe05f31</td>\n",
       "      <td>photo</td>\n",
       "      <td>studying</td>\n",
       "    </tr>\n",
       "    <tr>\n",
       "      <th>2</th>\n",
       "      <td>97522e57-d9ab-4bd6-97bf-c24d952602d2</td>\n",
       "      <td>163daa38-8b77-48c9-9af6-37a6c1447ac2</td>\n",
       "      <td>scared</td>\n",
       "      <td>2021-04-18 05:13:58</td>\n",
       "      <td>negative</td>\n",
       "      <td>15</td>\n",
       "      <td>8d3cd87d-8a31-4935-9a4f-b319bfe05f31</td>\n",
       "      <td>photo</td>\n",
       "      <td>studying</td>\n",
       "    </tr>\n",
       "  </tbody>\n",
       "</table>\n",
       "</div>"
      ],
      "text/plain": [
       "                             Content ID                      Reaction User ID  \\\n",
       "0  97522e57-d9ab-4bd6-97bf-c24d952602d2  5d454588-283d-459d-915d-c48a2cb4c27f   \n",
       "1  97522e57-d9ab-4bd6-97bf-c24d952602d2  92b87fa5-f271-43e0-af66-84fac21052e6   \n",
       "2  97522e57-d9ab-4bd6-97bf-c24d952602d2  163daa38-8b77-48c9-9af6-37a6c1447ac2   \n",
       "\n",
       "  Reaction Type   Reaction DateTime Sentiment  Score  \\\n",
       "0       disgust 2020-11-07 09:43:50  negative      0   \n",
       "1       dislike 2021-06-17 12:22:51  negative     10   \n",
       "2        scared 2021-04-18 05:13:58  negative     15   \n",
       "\n",
       "                        Content User ID Content Type Content Category  \n",
       "0  8d3cd87d-8a31-4935-9a4f-b319bfe05f31        photo         studying  \n",
       "1  8d3cd87d-8a31-4935-9a4f-b319bfe05f31        photo         studying  \n",
       "2  8d3cd87d-8a31-4935-9a4f-b319bfe05f31        photo         studying  "
      ]
     },
     "execution_count": 19,
     "metadata": {},
     "output_type": "execute_result"
    }
   ],
   "source": [
    "mydata = mydata.rename(columns={'User ID_x': 'Reaction User ID', 'Type_x':'Reaction Type',  'Datetime':'Reaction DateTime', 'User ID_y':'Content User ID', 'Type_y':'Content Type', 'Category':'Content Category'})\n",
    "mydata.head(3)"
   ]
  },
  {
   "cell_type": "markdown",
   "id": "bd3fe823",
   "metadata": {},
   "source": [
    "**Save this `mydata` as final data in a CSV file**"
   ]
  },
  {
   "cell_type": "code",
   "execution_count": 20,
   "id": "487c1082",
   "metadata": {},
   "outputs": [],
   "source": [
    "mydata.to_csv('final_data.csv')"
   ]
  },
  {
   "cell_type": "markdown",
   "id": "babca7b5",
   "metadata": {},
   "source": [
    "# 4. Analysis"
   ]
  },
  {
   "cell_type": "code",
   "execution_count": 21,
   "id": "a22f9e86",
   "metadata": {},
   "outputs": [
    {
     "data": {
      "text/html": [
       "<div>\n",
       "<style scoped>\n",
       "    .dataframe tbody tr th:only-of-type {\n",
       "        vertical-align: middle;\n",
       "    }\n",
       "\n",
       "    .dataframe tbody tr th {\n",
       "        vertical-align: top;\n",
       "    }\n",
       "\n",
       "    .dataframe thead th {\n",
       "        text-align: right;\n",
       "    }\n",
       "</style>\n",
       "<table border=\"1\" class=\"dataframe\">\n",
       "  <thead>\n",
       "    <tr style=\"text-align: right;\">\n",
       "      <th></th>\n",
       "      <th>Content Category</th>\n",
       "      <th>Score</th>\n",
       "    </tr>\n",
       "  </thead>\n",
       "  <tbody>\n",
       "    <tr>\n",
       "      <th>0</th>\n",
       "      <td>animals</td>\n",
       "      <td>68624</td>\n",
       "    </tr>\n",
       "    <tr>\n",
       "      <th>1</th>\n",
       "      <td>science</td>\n",
       "      <td>65405</td>\n",
       "    </tr>\n",
       "    <tr>\n",
       "      <th>2</th>\n",
       "      <td>healthy eating</td>\n",
       "      <td>63138</td>\n",
       "    </tr>\n",
       "    <tr>\n",
       "      <th>3</th>\n",
       "      <td>technology</td>\n",
       "      <td>63035</td>\n",
       "    </tr>\n",
       "    <tr>\n",
       "      <th>4</th>\n",
       "      <td>food</td>\n",
       "      <td>61598</td>\n",
       "    </tr>\n",
       "  </tbody>\n",
       "</table>\n",
       "</div>"
      ],
      "text/plain": [
       "  Content Category  Score\n",
       "0          animals  68624\n",
       "1          science  65405\n",
       "2   healthy eating  63138\n",
       "3       technology  63035\n",
       "4             food  61598"
      ]
     },
     "execution_count": 21,
     "metadata": {},
     "output_type": "execute_result"
    }
   ],
   "source": [
    "cnt_scores = mydata[['Content Category', 'Score']].groupby('Content Category', as_index=False)[['Score']].sum().sort_values(by='Score', ascending=False).reset_index(drop=True)\n",
    "top5_cnt_cat = cnt_scores.head(5)\n",
    "top5_cnt_cat"
   ]
  },
  {
   "cell_type": "markdown",
   "id": "95de245a",
   "metadata": {},
   "source": [
    "**Save `top5_cnt_cat` table**"
   ]
  },
  {
   "cell_type": "code",
   "execution_count": 22,
   "id": "d52e74fa",
   "metadata": {},
   "outputs": [],
   "source": [
    "top5_cnt_cat.to_csv('Top 5 Content Categories.csv')"
   ]
  },
  {
   "cell_type": "markdown",
   "id": "b37503d3",
   "metadata": {},
   "source": [
    "Final spreadsheet to be submitted, using Microsoft Excel:<br>\n",
    "![excel_ss](final_spreadsheet_submission.png)"
   ]
  },
  {
   "cell_type": "markdown",
   "id": "6b2b7b0a",
   "metadata": {},
   "source": [
    "# 5. Vizualization"
   ]
  },
  {
   "cell_type": "markdown",
   "id": "4b710b6b",
   "metadata": {},
   "source": [
    "**Vizualizing the top 5 most popular content categories**"
   ]
  },
  {
   "cell_type": "code",
   "execution_count": 23,
   "id": "22005e4a",
   "metadata": {
    "scrolled": true
   },
   "outputs": [
    {
     "data": {
      "image/png": "[encoded data removed]",
      "text/plain": [
       "<Figure size 500x300 with 1 Axes>"
      ]
     },
     "metadata": {},
     "output_type": "display_data"
    }
   ],
   "source": [
    "plt.figure(figsize=(5, 3))\n",
    "\n",
    "bars = plt.bar(top5_cnt_cat['Content Category'], top5_cnt_cat['Score'], color=['blue', 'blue', 'skyblue', 'skyblue', 'skyblue'], edgecolor='none')\n",
    "\n",
    "plt.title('Top 5 Most Popular Content Categories')\n",
    "plt.xticks(rotation=15)\n",
    "plt.ylabel('Score')\n",
    "plt.ylim(0, max(top5_cnt_cat['Score']) * 1.1) #to leave space above the bars so that the score is conveniently shown\n",
    "plt.yticks([])\n",
    "\n",
    "for bar in bars:\n",
    "    yval = bar.get_height()\n",
    "    plt.text(bar.get_x() + bar.get_width() / 2, yval, round(yval, 2), ha='center', va='bottom', color='black')\n",
    "\n",
    "plt.savefig('top5_categories_barplot.png', bbox_inches='tight')\n",
    "\n",
    "plt.show()"
   ]
  },
  {
   "cell_type": "markdown",
   "id": "6d760a19",
   "metadata": {},
   "source": [
    "Let's see a comparative analysis!"
   ]
  },
  {
   "cell_type": "code",
   "execution_count": 24,
   "id": "db9a55cb",
   "metadata": {},
   "outputs": [
    {
     "data": {
      "image/png": "[encoded data removed]",
      "text/plain": [
       "<Figure size 800x700 with 1 Axes>"
      ]
     },
     "metadata": {},
     "output_type": "display_data"
    }
   ],
   "source": [
    "plt.figure(figsize=(8,7))\n",
    "plt.pie(cnt_scores['Score'], labels=cnt_scores['Content Category'], autopct='%1.1f%%', startangle=90)\n",
    "\n",
    "top5_legend_labels = cnt_scores['Content Category'].head(5)\n",
    "plt.legend(top5_legend_labels, title='Top 5 Categories', loc='upper left')\n",
    "\n",
    "plt.savefig('categories_piechart.png', bbox_inches='tight')\n",
    "\n",
    "plt.show()"
   ]
  },
  {
   "cell_type": "markdown",
   "id": "9b2a33c8",
   "metadata": {},
   "source": [
    "Distribution of scores (in percentage) across all 16 available content categories!"
   ]
  },
  {
   "cell_type": "markdown",
   "id": "e5c26d5a",
   "metadata": {},
   "source": [
    "**Additionally, looking for the most active month using the data!**"
   ]
  },
  {
   "cell_type": "code",
   "execution_count": 25,
   "id": "33cdd065",
   "metadata": {
    "scrolled": true
   },
   "outputs": [
    {
     "data": {
      "image/png": "[encoded data removed]",
      "text/plain": [
       "<Figure size 1000x600 with 1 Axes>"
      ]
     },
     "metadata": {},
     "output_type": "display_data"
    }
   ],
   "source": [
    "rct['Datetime'] = pd.to_datetime(rct['Datetime'])\n",
    "rct['MonthYear'] = rct['Datetime'].dt.to_period('M')\n",
    "\n",
    "frequency_counts = rct['MonthYear'].value_counts().sort_index()\n",
    "\n",
    "plt.figure(figsize=(10, 6))\n",
    "ax = sns.barplot(x=frequency_counts.values, y=frequency_counts.index.astype(str).str.capitalize(), orient='h')\n",
    "\n",
    "for i, v in enumerate(frequency_counts.values):\n",
    "    fontweight = 'bold' if v == max(frequency_counts.values) else 'normal'\n",
    "    ax.text(v + max(frequency_counts) * 0.02, i, str(v), color='black', va='center', fontweight=fontweight)\n",
    "\n",
    "plt.title('Activity in each month within the data')\n",
    "\n",
    "plt.xlabel('Number of Reactions')\n",
    "plt.ylabel('Year-Month')\n",
    "plt.xlim(0, max(frequency_counts) * 1.1)\n",
    "\n",
    "plt.savefig('month_activity.png', bbox_inches='tight')\n",
    "plt.show()"
   ]
  },
  {
   "cell_type": "markdown",
   "id": "4baaa8cb",
   "metadata": {},
   "source": [
    "# Thanks!"
   ]
  }
 ],
 "metadata": {
  "kernelspec": {
   "display_name": "Python 3 (ipykernel)",
   "language": "python",
   "name": "python3"
  },
  "language_info": {
   "codemirror_mode": {
    "name": "ipython",
    "version": 3
   },
   "file_extension": ".py",
   "mimetype": "text/x-python",
   "name": "python",
   "nbconvert_exporter": "python",
   "pygments_lexer": "ipython3",
   "version": "3.10.9"
  }
 },
 "nbformat": 4,
 "nbformat_minor": 5
}
